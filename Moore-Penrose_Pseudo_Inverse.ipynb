{
 "cells": [
  {
   "cell_type": "code",
   "execution_count": null,
   "id": "90f031ba",
   "metadata": {},
   "outputs": [],
   "source": [
    "'''\n",
    "Moore - Penrose Pseudo Inverse can be used in cases where we cannot find the Inverse of a Matrix.\n",
    "\n",
    "A+ = V . D+ . U_T\n",
    "'''"
   ]
  },
  {
   "cell_type": "code",
   "execution_count": 5,
   "id": "9582dd2f",
   "metadata": {},
   "outputs": [],
   "source": [
    "import numpy as np\n",
    "import matplotlib.pyplot as plt"
   ]
  },
  {
   "cell_type": "code",
   "execution_count": 1,
   "id": "fd45c0e3",
   "metadata": {},
   "outputs": [],
   "source": [
    "# Let us for simplicity consider X = Dosage of Drug in ml and Y = Improvement score after taking the Drug."
   ]
  },
  {
   "cell_type": "code",
   "execution_count": 15,
   "id": "aaf3b244",
   "metadata": {},
   "outputs": [],
   "source": [
    "X1 = [ 0., 1., 2., 3., 4., 5., 6., 7., 8.]\n",
    "Y = [ 0.86, 1.31, 1.62, 1.78, 2.01, 2.34, 2.56, 3.03, 4.0 ]"
   ]
  },
  {
   "cell_type": "code",
   "execution_count": 3,
   "id": "4b81236b",
   "metadata": {},
   "outputs": [],
   "source": [
    "title = 'Clinical Trial'\n",
    "xlabel = 'Drug dosage in ml'\n",
    "ylabel = 'Improvement Score'"
   ]
  },
  {
   "cell_type": "code",
   "execution_count": 16,
   "id": "03f780bd",
   "metadata": {},
   "outputs": [
    {
     "data": {
      "image/png": "[encoded data removed]",
      "text/plain": [
       "<Figure size 432x288 with 1 Axes>"
      ]
     },
     "metadata": {
      "needs_background": "light"
     },
     "output_type": "display_data"
    }
   ],
   "source": [
    "fig, ax = plt.subplots()\n",
    "plt.title( title )\n",
    "plt.xlabel( xlabel )\n",
    "plt.ylabel ( ylabel )\n",
    "_ = ax.scatter( X1, Y )"
   ]
  },
  {
   "cell_type": "code",
   "execution_count": 17,
   "id": "d49399eb",
   "metadata": {},
   "outputs": [
    {
     "name": "stdout",
     "output_type": "stream",
     "text": [
      "Feature Matrix, X = \r\n",
      " [[1. 0.]\n",
      " [1. 1.]\n",
      " [1. 2.]\n",
      " [1. 3.]\n",
      " [1. 4.]\n",
      " [1. 5.]\n",
      " [1. 6.]\n",
      " [1. 7.]\n",
      " [1. 8.]]\n"
     ]
    }
   ],
   "source": [
    "X_0 = np.ones( 9 )\n",
    "\n",
    "#Y = [1 x1 x2 ... xm ] . [a b c  .... m]\n",
    "\n",
    "X = np.concatenate( ( np.matrix(X_0).T, np.matrix(X1).T ), axis = 1 )\n",
    "\n",
    "print(\"Feature Matrix, X = \\r\\n\", X)"
   ]
  },
  {
   "cell_type": "code",
   "execution_count": 18,
   "id": "6b858e72",
   "metadata": {},
   "outputs": [],
   "source": [
    "#In Regression, WKT: Y = X.w\n",
    "#Our Target is to find the tunable parameters \"W\", therefore: w = X_inv . Y\n",
    "\n",
    "w = np.dot( np.linalg.pinv( X ), Y )"
   ]
  },
  {
   "cell_type": "code",
   "execution_count": 19,
   "id": "8a564dd8",
   "metadata": {},
   "outputs": [
    {
     "name": "stdout",
     "output_type": "stream",
     "text": [
      "Weights = \r\n",
      " [[0.82377778 0.336     ]]\n"
     ]
    }
   ],
   "source": [
    "print(\"Weights = \\r\\n\", w)"
   ]
  },
  {
   "cell_type": "code",
   "execution_count": 13,
   "id": "45c80b20",
   "metadata": {},
   "outputs": [
    {
     "name": "stdout",
     "output_type": "stream",
     "text": [
      "The y - intercept is :  0.8237777777777777\n",
      "The lsope of Regression Line is :  0.3359999999999998\n"
     ]
    }
   ],
   "source": [
    "# y - intercept \"b\" = 1st weight\n",
    "\n",
    "b = np.asarray(w).reshape( -1 )[0]\n",
    "\n",
    "# m = slope of regression line = 2nd weight\n",
    "\n",
    "m = np.asarray(w).reshape( -1 )[1]\n",
    "\n",
    "print( \"The y - intercept is : \", b )\n",
    "print( \"The lsope of Regression Line is : \", m )"
   ]
  },
  {
   "cell_type": "code",
   "execution_count": 20,
   "id": "7204e9d0",
   "metadata": {},
   "outputs": [
    {
     "data": {
      "image/png": "[encoded data removed]",
      "text/plain": [
       "<Figure size 432x288 with 1 Axes>"
      ]
     },
     "metadata": {
      "needs_background": "light"
     },
     "output_type": "display_data"
    }
   ],
   "source": [
    "fig, ax = plt.subplots()\n",
    "\n",
    "plt.title( title )\n",
    "plt.xlabel( xlabel )\n",
    "plt.ylabel( ylabel )\n",
    "\n",
    "ax.scatter( X1, Y )\n",
    "\n",
    "xmin, xmax = ax.get_xlim()\n",
    "\n",
    "y_at_x_min = m * xmin + b\n",
    "y_at_x_max = m * xmax + b\n",
    "\n",
    "ax.set_xlim( [ xmin, xmax ] )\n",
    "_ = ax.plot( [ xmin, xmax ], [ y_at_x_min, y_at_x_max ], c = 'C01' )"
   ]
  },
  {
   "cell_type": "code",
   "execution_count": null,
   "id": "8fc82dd1",
   "metadata": {},
   "outputs": [],
   "source": []
  }
 ],
 "metadata": {
  "kernelspec": {
   "display_name": "Python 3",
   "language": "python",
   "name": "python3"
  },
  "language_info": {
   "codemirror_mode": {
    "name": "ipython",
    "version": 3
   },
   "file_extension": ".py",
   "mimetype": "text/x-python",
   "name": "python",
   "nbconvert_exporter": "python",
   "pygments_lexer": "ipython3",
   "version": "3.8.8"
  }
 },
 "nbformat": 4,
 "nbformat_minor": 5
}
