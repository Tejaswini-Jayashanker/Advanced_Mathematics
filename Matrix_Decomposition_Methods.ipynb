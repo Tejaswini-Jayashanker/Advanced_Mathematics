{
 "cells": [
  {
   "cell_type": "code",
   "execution_count": null,
   "id": "d4a67ea7",
   "metadata": {},
   "outputs": [],
   "source": [
    "'''\n",
    "Eigen Decomposition Method of a Matrix as a product of Eigen Values and Eigen Vectors.\n",
    "'''"
   ]
  },
  {
   "cell_type": "code",
   "execution_count": 1,
   "id": "8a53b645",
   "metadata": {},
   "outputs": [],
   "source": [
    "import numpy as np\n",
    "import matplotlib.pyplot as plt\n",
    "import math"
   ]
  },
  {
   "cell_type": "code",
   "execution_count": 39,
   "id": "cb89ab93",
   "metadata": {},
   "outputs": [
    {
     "name": "stdout",
     "output_type": "stream",
     "text": [
      "The dot product between A and x is: \r\n",
      " [ 8 26]\n"
     ]
    }
   ],
   "source": [
    "#Eigen Values and Eigen Vectors\n",
    "\n",
    "vector_x = np.array( [ 4, 2 ] )\n",
    "\n",
    "matrix_A = np.array( [ [ 1, 2 ], [ 4, 5 ] ] )\n",
    "\n",
    "A_v = np.dot( matrix_A, vector_x )\n",
    "\n",
    "print( \"The dot product between A and x is: \\r\\n\", A_v )"
   ]
  },
  {
   "cell_type": "code",
   "execution_count": 40,
   "id": "dd9916d8",
   "metadata": {},
   "outputs": [],
   "source": [
    "#Own function to plot two vectors on the same graph\n",
    "def plt_vectors( vectors, colours ):\n",
    "    plt.figure()\n",
    "    plt.axvline( x = 0, color = 'lightgray' )\n",
    "    plt.axhline( y = 0, color = 'lightgray' )\n",
    "    \n",
    "    for i in range( len( vectors ) ):\n",
    "        x = np.concatenate( [ [ 0, 0 ], vectors[i] ] )\n",
    "        plt.quiver( [ x[0] ], [ x[1] ], [ x[2] ], [ x[3] ], \n",
    "                   angles = 'xy', scale_units = 'xy', scale = 1,\n",
    "                   color = colours[i] )"
   ]
  },
  {
   "cell_type": "code",
   "execution_count": 41,
   "id": "5bbafa18",
   "metadata": {},
   "outputs": [
    {
     "data": {
      "image/png": "[encoded data removed]",
      "text/plain": [
       "<Figure size 432x288 with 1 Axes>"
      ]
     },
     "metadata": {
      "needs_background": "light"
     },
     "output_type": "display_data"
    }
   ],
   "source": [
    "plt_vectors( [ vector_x, A_v ], \n",
    "             [ 'blue', 'green' ] \n",
    "            )\n",
    "\n",
    "plt.xlim( -1, 35 )\n",
    "_ = plt.ylim( -1, 35 )"
   ]
  },
  {
   "cell_type": "code",
   "execution_count": 42,
   "id": "00b05f7c",
   "metadata": {},
   "outputs": [
    {
     "name": "stdout",
     "output_type": "stream",
     "text": [
      "The Eigen Values are: \r\n",
      "  [ 1.61168440e+02 -1.11684397e+01  2.06802688e-15]\n",
      "\r\n",
      "The Eigen Vectors are: \r\n",
      "  [[-0.23197069 -0.78583024  0.40824829]\n",
      " [-0.52532209 -0.08675134 -0.81649658]\n",
      " [-0.8186735   0.61232756  0.40824829]]\n"
     ]
    }
   ],
   "source": [
    "# A x v = Lambda x v\n",
    "#NOTE: This should be a Sqaure Matrix to compute Eigen Values and Vectors.\n",
    "\n",
    "Mat_A = np.array( [ [ 10, 20, 30 ], [ 40, 50, 60 ], [ 70, 80, 90 ] ] )\n",
    "\n",
    "lambdas, vec_v = np.linalg.eig( Mat_A )\n",
    "\n",
    "print( \"The Eigen Values are: \\r\\n \", lambdas )\n",
    "\n",
    "print( \"\\r\\nThe Eigen Vectors are: \\r\\n \",vec_v )"
   ]
  },
  {
   "cell_type": "code",
   "execution_count": 49,
   "id": "46686b7e",
   "metadata": {},
   "outputs": [
    {
     "name": "stdout",
     "output_type": "stream",
     "text": [
      "Matrix A x vector v  = \r\n",
      " [ -37.38635372  -84.66534212 -131.94433051]\n",
      "Lambdas x eigen vector = \r\n",
      " [ -37.38635372  -84.66534212 -131.94433051]\n"
     ]
    }
   ],
   "source": [
    "#Cross Checking:\n",
    "#consider Vector 1 along column 1.\n",
    "v = vec_v [:, 0]\n",
    "print( \"Matrix A x vector v  = \\r\\n\", np.dot( Mat_A, v ) )\n",
    "\n",
    "print( \"Lambdas x eigen vector = \\r\\n\", ( lambdas[0] * v ) )\n",
    "\n"
   ]
  },
  {
   "cell_type": "code",
   "execution_count": 46,
   "id": "804fc4ee",
   "metadata": {},
   "outputs": [
    {
     "name": "stdout",
     "output_type": "stream",
     "text": [
      "The Original Matrix is: \r\n",
      " [[10 20 30]\n",
      " [20 30 40]\n",
      " [30 40 50]]\n",
      "\r\n",
      "The Eigen Values are: \r\n",
      " [ 9.62347538e+01 -6.23475383e+00 -2.90233637e-15]\n",
      "\r\n",
      "The Eigen Vectors are: \r\n",
      " [[-0.38508979 -0.82767094  0.40824829]\n",
      " [-0.55951021 -0.14241368 -0.81649658]\n",
      " [-0.73393063  0.54284358  0.40824829]]\n"
     ]
    }
   ],
   "source": [
    "#Eigen Decomposition of a Matrix:\n",
    "#A = Q.Lambda.Q.T, where Q is an Orthogonal Matrix.\n",
    "\n",
    "A = np.array( [ [ 10, 20, 30 ], [ 20, 30, 40 ], [ 30, 40, 50 ] ] )\n",
    "\n",
    "print( \"The Original Matrix is: \\r\\n\", A )\n",
    "\n",
    "L, Q = np.linalg.eig( A )\n",
    "\n",
    "print( \"\\r\\nThe Eigen Values are: \\r\\n\", L )\n",
    "print( \"\\r\\nThe Eigen Vectors are: \\r\\n\", Q )"
   ]
  },
  {
   "cell_type": "code",
   "execution_count": 40,
   "id": "684f3581",
   "metadata": {},
   "outputs": [
    {
     "name": "stdout",
     "output_type": "stream",
     "text": [
      "The transpose of Q is: \r\n",
      " [[-0.38508979 -0.55951021 -0.73393063]\n",
      " [-0.82767094 -0.14241368  0.54284358]\n",
      " [ 0.40824829 -0.81649658  0.40824829]]\n"
     ]
    }
   ],
   "source": [
    "Q_T = Q.T\n",
    "\n",
    "print( \"The transpose of Q is: \\r\\n\", Q_T )"
   ]
  },
  {
   "cell_type": "code",
   "execution_count": 42,
   "id": "0cccacf0",
   "metadata": {},
   "outputs": [
    {
     "name": "stdout",
     "output_type": "stream",
     "text": [
      "The Eigen Value Matrix is = \r\n",
      " [[ 9.62347538e+01  0.00000000e+00  0.00000000e+00]\n",
      " [ 0.00000000e+00 -6.23475383e+00  0.00000000e+00]\n",
      " [ 0.00000000e+00  0.00000000e+00 -2.90233637e-15]]\n"
     ]
    }
   ],
   "source": [
    "Lambdas = np.diag( L )\n",
    "\n",
    "print( \"The Eigen Value Matrix is = \\r\\n\", Lambdas )"
   ]
  },
  {
   "cell_type": "code",
   "execution_count": 44,
   "id": "3daa3f87",
   "metadata": {},
   "outputs": [
    {
     "name": "stdout",
     "output_type": "stream",
     "text": [
      "Decomposed Matr Mul = \r\n",
      " [[10. 20. 30.]\n",
      " [20. 30. 40.]\n",
      " [30. 40. 50.]]\n"
     ]
    }
   ],
   "source": [
    "res_mat = np.dot( Q, np.dot( Lambdas, Q_T ) )\n",
    "\n",
    "print( \"Decomposed Matr Mul = \\r\\n\",res_mat ) "
   ]
  },
  {
   "cell_type": "code",
   "execution_count": null,
   "id": "108657ad",
   "metadata": {},
   "outputs": [],
   "source": [
    "# We see that A = Q.Lambdas.Q_T"
   ]
  },
  {
   "cell_type": "code",
   "execution_count": 47,
   "id": "60dcdb6d",
   "metadata": {},
   "outputs": [
    {
     "data": {
      "text/plain": [
       "'\\nSigular Value Decomposition: A = U . Sigma_Mat . V_T\\n'"
      ]
     },
     "execution_count": 47,
     "metadata": {},
     "output_type": "execute_result"
    }
   ],
   "source": [
    "'''\n",
    "Sigular Value Decomposition: A = U . Sigma_Mat . V_T\n",
    "'''"
   ]
  },
  {
   "cell_type": "code",
   "execution_count": 48,
   "id": "b36e4f77",
   "metadata": {},
   "outputs": [],
   "source": [
    "A = np.array( [ [ 11, 22, 33 ], [ 10, 20, 30 ], [ 44, 55, 66 ] ] )\n",
    "\n",
    "U, Sig, V_T = np.linalg.svd( A )"
   ]
  },
  {
   "cell_type": "code",
   "execution_count": 50,
   "id": "57d05148",
   "metadata": {},
   "outputs": [
    {
     "name": "stdout",
     "output_type": "stream",
     "text": [
      "The Upper Triangle Matrix: \r\n",
      " [[-3.65846259e-01 -6.43170139e-01 -6.72672794e-01]\n",
      " [-3.32587508e-01 -5.84700126e-01  7.39940073e-01]\n",
      " [-8.69219227e-01  4.94426876e-01  1.11022302e-16]]\n",
      "The Lower Triangle Matrix: \r\n",
      " [[-0.41123178 -0.56375856 -0.71628535]\n",
      " [ 0.81499801  0.1245376  -0.56592281]\n",
      " [ 0.40824829 -0.81649658  0.40824829]]\n",
      "The Sigma  Matrix: \r\n",
      " [110.87623183  10.83795252   0.        ]\n"
     ]
    }
   ],
   "source": [
    "print( \"The Upper Triangle Matrix: \\r\\n\", U )\n",
    "print( \"The Lower Triangle Matrix: \\r\\n\", V_T )\n",
    "print( \"The Sigma  Matrix: \\r\\n\", Sig )"
   ]
  },
  {
   "cell_type": "code",
   "execution_count": 52,
   "id": "16771e7f",
   "metadata": {},
   "outputs": [
    {
     "data": {
      "text/plain": [
       "array([[110.87623183,   0.        ,   0.        ],\n",
       "       [  0.        ,  10.83795252,   0.        ],\n",
       "       [  0.        ,   0.        ,   0.        ]])"
      ]
     },
     "execution_count": 52,
     "metadata": {},
     "output_type": "execute_result"
    }
   ],
   "source": [
    "#Note that the diagonal Martix Sigma Matrix is not as the same size of other two matrices.\n",
    "\n",
    "Diagonal = np.diag( Sig )\n",
    "Diagonal"
   ]
  },
  {
   "cell_type": "code",
   "execution_count": 53,
   "id": "18b61169",
   "metadata": {},
   "outputs": [
    {
     "name": "stdout",
     "output_type": "stream",
     "text": [
      "The Resultant SVD matrix when multiplied = \r\n",
      " [[11. 22. 33.]\n",
      " [10. 20. 30.]\n",
      " [44. 55. 66.]]\n"
     ]
    }
   ],
   "source": [
    "res_mat = np.dot( U, np.dot( Diagonal, V_T ) )\n",
    "print( \"The Resultant SVD matrix when multiplied = \\r\\n\", res_mat )"
   ]
  },
  {
   "cell_type": "code",
   "execution_count": null,
   "id": "7aadd300",
   "metadata": {},
   "outputs": [],
   "source": [
    " "
   ]
  }
 ],
 "metadata": {
  "kernelspec": {
   "display_name": "Python 3",
   "language": "python",
   "name": "python3"
  },
  "language_info": {
   "codemirror_mode": {
    "name": "ipython",
    "version": 3
   },
   "file_extension": ".py",
   "mimetype": "text/x-python",
   "name": "python",
   "nbconvert_exporter": "python",
   "pygments_lexer": "ipython3",
   "version": "3.8.8"
  }
 },
 "nbformat": 4,
 "nbformat_minor": 5
}
