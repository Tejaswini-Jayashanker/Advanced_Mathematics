{
 "cells": [
  {
   "cell_type": "code",
   "execution_count": 1,
   "id": "ada9dd5f",
   "metadata": {},
   "outputs": [],
   "source": [
    "'''\n",
    "    This Notbook describes the Hands-on trials for Linear Algebra from basics in Python.\n",
    "    Using NumPy, PyTorch and TensorFlow.\n",
    "'''"
   ]
  },
  {
   "cell_type": "code",
   "execution_count": 1,
   "id": "ceab4489",
   "metadata": {},
   "outputs": [],
   "source": [
    "import numpy as np\n",
    "import matplotlib.pyplot as plt"
   ]
  },
  {
   "cell_type": "code",
   "execution_count": null,
   "id": "ae65ab64",
   "metadata": {},
   "outputs": [],
   "source": [
    "'''\n",
    "Solving System of Linear Equations:\n",
    "\n",
    "Given Problem Statement:\n",
    "The Robber is travelling at 150km/hr and a 5min head start.\n",
    "The Sheriff has a car speeding at 180km/hr.\n",
    "\n",
    "How long does it take for the Sheriff to catch the robber?\n",
    "What distance will they have travelled at that point?\n",
    "'''"
   ]
  },
  {
   "cell_type": "code",
   "execution_count": 2,
   "id": "b167bd83",
   "metadata": {},
   "outputs": [],
   "source": [
    "t = np.linspace( 0, 40, 1000 )                           #np.linspace(start,stop, no.of samples)\n",
    "\n",
    "#Distance travelled by the robber: d_r = speed_r x time_r\n",
    "d_r = 2.5 * t                           #150km/hr = 150/60 km/min = 2.5km/min\n",
    "\n",
    "#Distance travelled by the Sheriff: d_s = speed_s x time_s\n",
    "d_s = 3 * ( t -5 )                         #180km/hr = 180/60 km/min = 3km/min"
   ]
  },
  {
   "cell_type": "code",
   "execution_count": null,
   "id": "84394c40",
   "metadata": {},
   "outputs": [],
   "source": [
    "'''\n",
    "Now from the above equations, d = 2.5t = 3(t-5),\n",
    "solving these equations we get, t = 30minutes and d = 75km.\n",
    "'''"
   ]
  },
  {
   "cell_type": "code",
   "execution_count": 3,
   "id": "d6587606",
   "metadata": {},
   "outputs": [
    {
     "data": {
      "image/png": "[encoded data removed]",
      "text/plain": [
       "<Figure size 432x288 with 1 Axes>"
      ]
     },
     "metadata": {
      "needs_background": "light"
     },
     "output_type": "display_data"
    }
   ],
   "source": [
    "fig, ax = plt.subplots()\n",
    "\n",
    "plt.title( 'Cop and the Bank Robber.')\n",
    "plt.xlabel( 'Time in minutes')\n",
    "plt.ylabel( 'Distance in kms')\n",
    "\n",
    "ax.set_xlim( [ 0, 40 ] )\n",
    "ax.set_ylim( [ 0, 100 ] )\n",
    "\n",
    "ax.plot( t, d_r, c='red' )\n",
    "ax.plot( t, d_s, c='green' )\n",
    "\n",
    "plt.axvline( x = 30, color = 'purple', linestyle = '-.' )\n",
    "_ = plt.axhline( y = 75, color = 'black', linestyle = '--' )"
   ]
  },
  {
   "cell_type": "code",
   "execution_count": null,
   "id": "59cbbb84",
   "metadata": {},
   "outputs": [],
   "source": [
    "''' Tensors '''\n",
    "\n",
    "# A Vector is a 1 dimensional Tensor.\n",
    "# A Matrix is a 2 dimensional Tensor."
   ]
  },
  {
   "cell_type": "code",
   "execution_count": 11,
   "id": "ec3ba5cf",
   "metadata": {},
   "outputs": [
    {
     "name": "stdout",
     "output_type": "stream",
     "text": [
      "The vector is:  [[ 5 25  2]]\n",
      "The transpose of vector is : [[ 5]\n",
      " [25]\n",
      " [ 2]]\n",
      "NumPy Matrix is = \r\n",
      " [[10 20 30]\n",
      " [50 60 70]\n",
      " [40 80 90]]\n",
      "Matric Transpose = \r\n",
      " [[10 50 40]\n",
      " [20 60 80]\n",
      " [30 70 90]]\n",
      "Matrix Inverse: \r\n",
      " [[-0.01666667  0.05       -0.03333333]\n",
      " [-0.14166667 -0.025       0.06666667]\n",
      " [ 0.13333333  0.         -0.03333333]]\n"
     ]
    }
   ],
   "source": [
    "#                      VECTORS    OR MATRICES                                        #\n",
    "# Using NumPy Arrays\n",
    "\n",
    "import numpy as np\n",
    "\n",
    "vector = np.array( [ [ 5, 25, 2 ] ] )\n",
    "print( \"The vector is: \",vector )\n",
    "\n",
    "#Transpose of a Vector\n",
    "\n",
    "vector_T = vector.T\n",
    "\n",
    "print( \"The transpose of vector is :\", vector_T )\n",
    "\n",
    "\n",
    "matrix = np.array( [ [ 10, 20, 30 ], [ 50, 60, 70 ], [ 40, 80, 90 ]  ] )\n",
    "print(\"NumPy Matrix is = \\r\\n\",matrix)\n",
    "\n",
    "#Transpose\n",
    "mat_T = matrix.T\n",
    "print(\"Matric Transpose = \\r\\n\",mat_T)\n",
    "\n",
    "#Inverse\n",
    "mat_Inv = np.linalg.inv(matrix)\n",
    "print(\"Matrix Inverse: \\r\\n\", mat_Inv)"
   ]
  },
  {
   "cell_type": "code",
   "execution_count": null,
   "id": "053d504b",
   "metadata": {},
   "outputs": [],
   "source": []
  },
  {
   "cell_type": "code",
   "execution_count": null,
   "id": "bd35d845",
   "metadata": {},
   "outputs": [],
   "source": [
    "#NOTE WHAT HAPPENS WHILE USING SINGLE BRACKET. "
   ]
  },
  {
   "cell_type": "code",
   "execution_count": 5,
   "id": "fa8b1247",
   "metadata": {},
   "outputs": [
    {
     "name": "stdout",
     "output_type": "stream",
     "text": [
      "The vector is:  [7 8 9]\n",
      "The transpose of vector is :  [7 8 9]\n"
     ]
    }
   ],
   "source": [
    "vec = np.array( [ 7, 8, 9 ] )\n",
    "print( \"The vector is: \", vec )\n",
    "\n",
    "vect_T = vec.T\n",
    "\n",
    "print(\"The transpose of vector is : \", vect_T)"
   ]
  },
  {
   "cell_type": "code",
   "execution_count": null,
   "id": "3e9c2f82",
   "metadata": {},
   "outputs": [],
   "source": [
    "# There is no effect of the transpose as this treats it like a 1D Array."
   ]
  },
  {
   "cell_type": "code",
   "execution_count": null,
   "id": "3bf31f76",
   "metadata": {},
   "outputs": [],
   "source": [
    "#Using PyTorch"
   ]
  },
  {
   "cell_type": "code",
   "execution_count": 16,
   "id": "c140bd94",
   "metadata": {},
   "outputs": [
    {
     "name": "stdout",
     "output_type": "stream",
     "text": [
      "Scalar using Py Torch:  tensor(5)\n",
      "Size:  torch.Size([])\n",
      "Vector in Pytorch : tensor([20,  5,  6])\n",
      "Size:  torch.Size([3])\n",
      "Transpose of a Vector:  tensor([20,  5,  6])\n"
     ]
    }
   ],
   "source": [
    "import torch\n",
    "x_pt = torch.tensor(5) #Scalar\n",
    "print( \"Scalar using Py Torch: \",x_pt )\n",
    "print(\"Size: \",x_pt.size() )\n",
    "\n",
    "vec_x = torch.tensor( [ 20, 5, 6 ] )\n",
    "print( \"Vector in Pytorch :\", vec_x )\n",
    "print(\"Size: \", vec_x.size() )\n",
    "\n",
    "#transpose\n",
    "vec_x_T = torch.transpose(vec_x,0,0)\n",
    "print(\"Transpose of a Vector: \",vec_x_T)"
   ]
  },
  {
   "cell_type": "code",
   "execution_count": 21,
   "id": "ca4d18bf",
   "metadata": {},
   "outputs": [
    {
     "name": "stdout",
     "output_type": "stream",
     "text": [
      "PyTorch Matrix = \n",
      " tensor([[10., 20., 30.],\n",
      "        [40., 50., 60.],\n",
      "        [40., 70., 90.]])\n",
      "Transpose of a Matrix = \n",
      " tensor([[10., 40., 40.],\n",
      "        [20., 50., 70.],\n",
      "        [30., 60., 90.]])\n",
      "The inverse is: \n",
      " tensor([[ 0.1000,  0.1000, -0.1000],\n",
      "        [-0.4000, -0.1000,  0.2000],\n",
      "        [ 0.2667,  0.0333, -0.1000]])\n"
     ]
    }
   ],
   "source": [
    "#2D Tensor or Matrix\n",
    "\n",
    "mat_pt = torch.tensor( [ [ 10., 20., 30. ], [ 40., 50., 60. ], [40., 70., 90. ] ] )\n",
    "print(\"PyTorch Matrix = \\r\\n\", mat_pt)\n",
    "\n",
    "#transposse\n",
    "mat_pt_T = torch.transpose( mat_pt, 0, 1)\n",
    "print(\"Transpose of a Matrix = \\r\\n\", mat_pt_T)\n",
    "\n",
    "#Inverse\n",
    "mat_pt_Inv = torch.inverse( mat_pt )\n",
    "print(\"The inverse is: \\r\\n\", mat_pt_Inv)"
   ]
  },
  {
   "cell_type": "code",
   "execution_count": 18,
   "id": "7aad504f",
   "metadata": {},
   "outputs": [],
   "source": [
    "\"\"\"TRY Matrix Multiplication\"\"\"\n",
    "\n",
    "mat1 =  np.array( [ [ 100, 200, 300 ], [ 500, 600, 700 ], [ 400, 800, 900 ]  ] )"
   ]
  },
  {
   "cell_type": "code",
   "execution_count": 19,
   "id": "dd45f5b4",
   "metadata": {},
   "outputs": [
    {
     "data": {
      "text/plain": [
       "array([[ 23000,  38000,  44000],\n",
       "       [ 63000, 102000, 120000],\n",
       "       [ 80000, 128000, 149000]])"
      ]
     },
     "execution_count": 19,
     "metadata": {},
     "output_type": "execute_result"
    }
   ],
   "source": [
    "mat1@matrix"
   ]
  },
  {
   "cell_type": "code",
   "execution_count": 20,
   "id": "234a0e34",
   "metadata": {},
   "outputs": [
    {
     "data": {
      "text/plain": [
       "' TENSOR FLOW'"
      ]
     },
     "execution_count": 20,
     "metadata": {},
     "output_type": "execute_result"
    }
   ],
   "source": [
    "\"\"\" TENSOR FLOW\"\"\""
   ]
  },
  {
   "cell_type": "code",
   "execution_count": 24,
   "id": "4e1ba002",
   "metadata": {},
   "outputs": [
    {
     "name": "stdout",
     "output_type": "stream",
     "text": [
      "X is a Scalar = <tf.Variable 'Variable:0' shape=() dtype=int32, numpy=10>.\n",
      "\r\n",
      "Vector in Tensor Flow = \r\n",
      " <tf.Variable 'Variable:0' shape=(3,) dtype=int32, numpy=array([10, 20, 30])>\n",
      "\r\n",
      "Vector Transpose in Tensor Flow = \r\n",
      " tf.Tensor([10 20 30], shape=(3,), dtype=int32)\n",
      "\r\n",
      " Matrix in Tensor Flow = \r\n",
      " <tf.Variable 'Variable:0' shape=(4, 4) dtype=float32, numpy=\n",
      "array([[10., 20., 30., 40.],\n",
      "       [50., 60., 70., 80.],\n",
      "       [11., 22., 33., 44.],\n",
      "       [16., 12., 32., 42.]], dtype=float32)>\n",
      "\r\n",
      " Matrix Transpose = \r\n",
      " tf.Tensor(\n",
      "[[10. 50. 11. 16.]\n",
      " [20. 60. 22. 12.]\n",
      " [30. 70. 33. 32.]\n",
      " [40. 80. 44. 42.]], shape=(4, 4), dtype=float32)\n",
      "\r\n",
      "The Inverse is:\r\n",
      "  tf.Tensor(\n",
      "[[ 2.1845311e+05  2.5911460e-02 -1.9859400e+05  4.1666660e-02]\n",
      " [ 8.7381586e+04  1.5364582e-02 -7.9437609e+04 -8.3333336e-02]\n",
      " [-8.3012275e+05 -8.4635410e-03  7.5465700e+05  4.1666672e-02]\n",
      " [ 5.2428800e+05 -7.8125000e-03 -4.7662544e+05  0.0000000e+00]], shape=(4, 4), dtype=float32)\n"
     ]
    }
   ],
   "source": [
    "import tensorflow as tf\n",
    "\n",
    "x_tf = tf.Variable( 10 )\n",
    "print( \"X is a Scalar = {}.\".format( x_tf ) )\n",
    "\n",
    "vec_x = tf.Variable( [ 10, 20, 30 ] )\n",
    "print( \"\\r\\nVector in Tensor Flow = \\r\\n\", vec_x )\n",
    "\n",
    "#transpose\n",
    "vec_x_T = tf.transpose( vec_x )\n",
    "print( \"\\r\\nVector Transpose in Tensor Flow = \\r\\n\", vec_x_T) \n",
    "\n",
    "#Matrix\n",
    "\n",
    "mat_x = tf.Variable( [ [10., 20., 30., 40. ], [ 50., 60., 70., 80. ], [ 11., 22., 33., 44., ], [16., 12., 32., 42. ] ] )\n",
    "print(\"\\r\\n Matrix in Tensor Flow = \\r\\n\", mat_x)\n",
    "\n",
    "#transpose\n",
    "mat_x_T = tf.transpose( mat_x )\n",
    "print( \"\\r\\n Matrix Transpose = \\r\\n\", mat_x_T )\n",
    "\n",
    "#inverse\n",
    "mat_X_inv = tf.linalg.inv( mat_x )\n",
    "print(\"\\r\\nThe Inverse is:\\r\\n \",mat_X_inv)"
   ]
  },
  {
   "cell_type": "code",
   "execution_count": null,
   "id": "f6669173",
   "metadata": {},
   "outputs": [],
   "source": [
    "'''\n",
    "    Normalization Techniques.\n",
    "    Norms quantify the Magnitude of Vectors.\n",
    "'''"
   ]
  },
  {
   "cell_type": "code",
   "execution_count": 3,
   "id": "2ef1b029",
   "metadata": {},
   "outputs": [
    {
     "name": "stdout",
     "output_type": "stream",
     "text": [
      "The L1 Normalization of Vector x is:  15\n"
     ]
    }
   ],
   "source": [
    "#L1 Norm of a Vector.\n",
    "\n",
    "vec_x = np. array( [2,5,8] )\n",
    "l1_norm_vec_x = ( np.abs( vec_x[ 0 ] ) + np.abs( vec_x[ 1 ] ) + np.abs( vec_x[ 2 ] ) )\n",
    "\n",
    "print(\"The L1 Normalization of Vector x is: \",l1_norm_vec_x)"
   ]
  },
  {
   "cell_type": "code",
   "execution_count": 4,
   "id": "ebb705a2",
   "metadata": {},
   "outputs": [
    {
     "name": "stdout",
     "output_type": "stream",
     "text": [
      "The L2 Normalization of vector x is:  37.416573867739416\n"
     ]
    }
   ],
   "source": [
    "#L2 Norm of a Vector.\n",
    "vec_x = np.array( [ 10, 20, 30 ] )\n",
    "l2_norm_of_vec_x = np.linalg.norm(vec_x)\n",
    "\n",
    "''' \n",
    "This can ve computed as:  \n",
    "np.sqrt( np.abs( vec_x[ 0 ] )**2 + np.abs( vec_x[ 1 ] )**2 + np.abs( vec_x[ 2 ] )**2 ) \n",
    "'''\n",
    "\n",
    "print( \"The L2 Normalization of vector x is: \",l2_norm_of_vec_x )"
   ]
  },
  {
   "cell_type": "code",
   "execution_count": 5,
   "id": "5cee61ca",
   "metadata": {},
   "outputs": [
    {
     "data": {
      "text/plain": [
       "37.416573867739416"
      ]
     },
     "execution_count": 5,
     "metadata": {},
     "output_type": "execute_result"
    }
   ],
   "source": [
    "np.sqrt( np.abs( vec_x[ 0 ] )**2 + np.abs( vec_x[ 1 ] )**2 + np.abs( vec_x[ 2 ] )**2 )"
   ]
  },
  {
   "cell_type": "code",
   "execution_count": 6,
   "id": "b7c20b83",
   "metadata": {},
   "outputs": [
    {
     "name": "stdout",
     "output_type": "stream",
     "text": [
      "The L2 Sqared Normalization of vector x is:  58.25\n"
     ]
    }
   ],
   "source": [
    "#L2 sqaured Norm of a Vector.\n",
    "\n",
    "vec_x = np.array( [ 7, 0.5, 3 ] )\n",
    "\n",
    "l2sq_norm_vec_x = ( np.abs( vec_x[ 0 ] )**2 + np.abs( vec_x[ 1 ] )**2 + np.abs( vec_x[ 2 ] )**2 )\n",
    "\n",
    "print( \"The L2 Sqared Normalization of vector x is: \",l2sq_norm_vec_x )"
   ]
  },
  {
   "cell_type": "code",
   "execution_count": 8,
   "id": "d843d3e6",
   "metadata": {},
   "outputs": [
    {
     "name": "stdout",
     "output_type": "stream",
     "text": [
      "The Max Normalization of Vector x is:  16\n"
     ]
    }
   ],
   "source": [
    "#L-infinty or Maximum Normalization of a Vector.\n",
    "\n",
    "vec_x = np.array( [ 4, 8, 16 ] )\n",
    "\n",
    "max_norm_vec_x = np.max( [ np.abs( vec_x[ 0 ] ), np.abs( vec_x[ 1 ] ), np.abs( vec_x[ 2 ] ) ] )\n",
    "\n",
    "print( \"The Max Normalization of Vector x is: \",max_norm_vec_x )"
   ]
  },
  {
   "cell_type": "code",
   "execution_count": 10,
   "id": "635fead6",
   "metadata": {},
   "outputs": [
    {
     "name": "stdout",
     "output_type": "stream",
     "text": [
      "The Frobenius Normalization of Matrix X is:  58.94913061275798\n"
     ]
    }
   ],
   "source": [
    "''' Normalization of a Matrix - Frobenius Norm'''\n",
    "\n",
    "mat_X = np.array( [ [ 10, 20, 30 ], \n",
    "                    [ 15, 25, 35 ],\n",
    "                  ] )\n",
    "\n",
    "frob_norm_mat_X = np.linalg.norm( mat_X )\n",
    "\n",
    "print(\"The Frobenius Normalization of Matrix X is: \",frob_norm_mat_X)"
   ]
  },
  {
   "cell_type": "code",
   "execution_count": null,
   "id": "e9d48d02",
   "metadata": {},
   "outputs": [],
   "source": []
  }
 ],
 "metadata": {
  "kernelspec": {
   "display_name": "Python 3",
   "language": "python",
   "name": "python3"
  },
  "language_info": {
   "codemirror_mode": {
    "name": "ipython",
    "version": 3
   },
   "file_extension": ".py",
   "mimetype": "text/x-python",
   "name": "python",
   "nbconvert_exporter": "python",
   "pygments_lexer": "ipython3",
   "version": "3.8.8"
  }
 },
 "nbformat": 4,
 "nbformat_minor": 5
}
