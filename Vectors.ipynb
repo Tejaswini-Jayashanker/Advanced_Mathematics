{
 "cells": [
  {
   "cell_type": "code",
   "execution_count": 1,
   "id": "370adbcb",
   "metadata": {},
   "outputs": [],
   "source": [
    "#Vectors: A tuple of one or more values called scalars."
   ]
  },
  {
   "cell_type": "code",
   "execution_count": 2,
   "id": "160ff262",
   "metadata": {},
   "outputs": [
    {
     "data": {
      "text/plain": [
       "' The Following examples are dealt with ROW Vectors.'"
      ]
     },
     "execution_count": 2,
     "metadata": {},
     "output_type": "execute_result"
    }
   ],
   "source": [
    "''' The Following examples are dealt with ROW Vectors.'''"
   ]
  },
  {
   "cell_type": "code",
   "execution_count": 3,
   "id": "6e337c7a",
   "metadata": {},
   "outputs": [
    {
     "name": "stdout",
     "output_type": "stream",
     "text": [
      "Vector v is:\n",
      " (array([1, 2, 0]), array([0, 1, 2]), array([1, 0, 2]))\n"
     ]
    }
   ],
   "source": [
    "import numpy as np\n",
    "\n",
    "#Define v1 \n",
    "v1 = np.array( [ 1, 2, 0 ] )\n",
    "\n",
    "#Define v2\n",
    "v2 = np.array( [ 0, 1, 2 ] )\n",
    "\n",
    "#Define v3 \n",
    "v3 = np.array( [ 1, 0, 2 ] )\n",
    "\n",
    "v = (v1, v2, v3)\n",
    "\n",
    "print( \"Vector v is:\\n\", v )"
   ]
  },
  {
   "cell_type": "code",
   "execution_count": 4,
   "id": "b76be161",
   "metadata": {},
   "outputs": [
    {
     "name": "stdout",
     "output_type": "stream",
     "text": [
      "Resultant Vector of v1 and v2:\n",
      " [1 3 2]\n",
      "Resultant vector for V1 and v4 is : \n",
      " [ 0  2 -2]\n",
      "Difference Vector: \n",
      " [ 0 -2  2]\n"
     ]
    }
   ],
   "source": [
    "#Vector Addition\n",
    "v1_2 = v1 + v2\n",
    "\n",
    "print( \"Resultant Vector of v1 and v2:\\n\", v1_2 )\n",
    "\n",
    "'''Another possibility is Subtraction. This is nothing but addition of vectors in \n",
    "different (opposite) directions.'''\n",
    "\n",
    "#Example of vector subtraction.\n",
    "v4 = np.array( [ -1, 0, -2 ] )\n",
    "\n",
    "v1_4 = v1 + v4\n",
    "print( \"Resultant vector for V1 and v4 is : \\n\", v1_4 )\n",
    "\n",
    "#Normal subtraction can also be performed.\n",
    "\n",
    "v_sub = v3 - v1\n",
    "print( \"Difference Vector: \\n\", v_sub )"
   ]
  },
  {
   "cell_type": "code",
   "execution_count": 5,
   "id": "f14a58e9",
   "metadata": {},
   "outputs": [
    {
     "name": "stdout",
     "output_type": "stream",
     "text": [
      "Vector Product:  [0 2 0]\n"
     ]
    }
   ],
   "source": [
    "#Vector Multiplication\n",
    "'''Vector multiplication:Let a and b be a vector of dim = (3,1), then a*b ==> a1*b1, a2*b2, a3*b3'''\n",
    "\n",
    "v12 = v1 * v2\n",
    "print( \"Vector Product: \", v12 )"
   ]
  },
  {
   "cell_type": "code",
   "execution_count": 6,
   "id": "a28603b6",
   "metadata": {},
   "outputs": [
    {
     "name": "stdout",
     "output_type": "stream",
     "text": [
      "[inf  2.  0.]\n"
     ]
    },
    {
     "name": "stderr",
     "output_type": "stream",
     "text": [
      "<ipython-input-6-d1c44fc633be>:6: RuntimeWarning: divide by zero encountered in true_divide\n",
      "  v1_div_v2 = v1 / v2\n"
     ]
    }
   ],
   "source": [
    "#Vector Division\n",
    "'''Vector Divison: Let a and b be two vector of dim = (3,1), then a/b when b is not Zero:\n",
    "                                                                a1/b1, a2/b2, a3/b3'''\n",
    "\n",
    "#Case -1: If one of the values is Zero, and Error will be raised\n",
    "v1_div_v2 = v1 / v2\n",
    "\n",
    "print( v1_div_v2 )"
   ]
  },
  {
   "cell_type": "code",
   "execution_count": 7,
   "id": "69ef521f",
   "metadata": {},
   "outputs": [
    {
     "name": "stdout",
     "output_type": "stream",
     "text": [
      "v1 div v2:  [-1.   2.   1.5]\n",
      "v2 div v1:  [-1.          0.5         0.66666667]\n"
     ]
    }
   ],
   "source": [
    "#case - 2: Non Zero Divisor\n",
    "\n",
    "v1 = np.array( [ 1, 2, 3 ] )\n",
    "v2 = np.array( [ -1, 1, 2 ] )\n",
    "\n",
    "print( \"v1 div v2: \", v1/v2 )\n",
    "print( \"v2 div v1: \", v2/v1 )"
   ]
  },
  {
   "cell_type": "code",
   "execution_count": 8,
   "id": "da46b363",
   "metadata": {},
   "outputs": [
    {
     "name": "stdout",
     "output_type": "stream",
     "text": [
      "Dot product of v1 and v2 =  7\n"
     ]
    }
   ],
   "source": [
    "#Dot Product of Vectors\n",
    "\"\"\" The Scalar dot product of any two vectors resulting in Zro indicates that the two vectors are \n",
    "orthogonal to each other. \"\"\"\n",
    "\n",
    "''' a dot b ==> a1 * b1 + a2 * b2 + a3 * b3'''\n",
    "\n",
    "v1_dot_v2 = v1.dot(v2)\n",
    "\n",
    "print( \"Dot product of v1 and v2 = \", v1_dot_v2 )"
   ]
  },
  {
   "cell_type": "code",
   "execution_count": 9,
   "id": "bd1c67f0",
   "metadata": {},
   "outputs": [
    {
     "name": "stdout",
     "output_type": "stream",
     "text": [
      "vector_1 scaled by 0.5 is:  [ 5. 10. 15.]\n",
      "vector_2 scaled by 0.5 is:  [-1.  -1.5 -2. ]\n",
      "vector_3 scaled by 0.5 is:  [150. 300. 450.]\n",
      "\n",
      "Unwanted Output: \n",
      " (array([10., 20., 30.]), array([4., 6., 8.]), array([ 50., 100., 150.]), array([10., 20., 30.]), array([4., 6., 8.]), array([ 50., 100., 150.]), array([10., 20., 30.]), array([4., 6., 8.]), array([ 50., 100., 150.]), array([10., 20., 30.]), array([4., 6., 8.]), array([ 50., 100., 150.]), array([10., 20., 30.]), array([4., 6., 8.]), array([ 50., 100., 150.]))\n"
     ]
    }
   ],
   "source": [
    "#Scalar Multiplication to a Vector\n",
    "\"\"\" When a Scalar is multiplied to a vector, element wise multiplication for the whole \n",
    "vector by the scalar is performed. \"\"\"\n",
    "\n",
    "scalar = 0.5\n",
    "\n",
    "vec1 = np.array( [ 10, 20, 30 ], dtype = 'float' )\n",
    "vec2 = np.array( [ 4, 6, 8 ], dtype = 'float')\n",
    "vec3 = np.array( [ 50, 100, 150 ], dtype = 'float' )\n",
    "\n",
    "print( \"vector_1 scaled by 0.5 is: \", scalar * vec1 )\n",
    "\n",
    "scalar = -0.25\n",
    "print( \"vector_2 scaled by 0.5 is: \", scalar * vec2 )\n",
    "\n",
    "\n",
    "scalar = 3\n",
    "print( \"vector_3 scaled by 0.5 is: \", scalar * vec3 )\n",
    "\n",
    "\n",
    "\"\"\" See What happens when you try to multiply a scalar for a whole Tuple of vectors, \n",
    "it repeats itself. This is not what we expect.\"\"\"\n",
    "\n",
    "scalar = 5\n",
    "\n",
    "vector = ( vec1, vec2, vec3 )\n",
    "\n",
    "scalar_by_vector = scalar * vector\n",
    "\n",
    "print( \"\\nUnwanted Output: \\n\",scalar_by_vector )"
   ]
  },
  {
   "cell_type": "code",
   "execution_count": 10,
   "id": "b87cf921",
   "metadata": {},
   "outputs": [
    {
     "data": {
      "text/plain": [
       "' The Following examples are dealt with COLUMN Vectors.'"
      ]
     },
     "execution_count": 10,
     "metadata": {},
     "output_type": "execute_result"
    }
   ],
   "source": [
    "''' The Following examples are dealt with COLUMN Vectors.'''"
   ]
  },
  {
   "cell_type": "code",
   "execution_count": 11,
   "id": "2108b2a2",
   "metadata": {},
   "outputs": [
    {
     "name": "stdout",
     "output_type": "stream",
     "text": [
      "Column Vector: \n",
      " [[1]\n",
      " [2]\n",
      " [3]]\n"
     ]
    }
   ],
   "source": [
    "col_vec = np.array( [ [ 1 ], [ 2 ], [ 3 ] ] )\n",
    "print( \"Column Vector: \\n\", col_vec )"
   ]
  },
  {
   "cell_type": "code",
   "execution_count": null,
   "id": "7cf39ad6",
   "metadata": {},
   "outputs": [],
   "source": []
  }
 ],
 "metadata": {
  "kernelspec": {
   "display_name": "Python 3",
   "language": "python",
   "name": "python3"
  },
  "language_info": {
   "codemirror_mode": {
    "name": "ipython",
    "version": 3
   },
   "file_extension": ".py",
   "mimetype": "text/x-python",
   "name": "python",
   "nbconvert_exporter": "python",
   "pygments_lexer": "ipython3",
   "version": "3.8.8"
  }
 },
 "nbformat": 4,
 "nbformat_minor": 5
}
